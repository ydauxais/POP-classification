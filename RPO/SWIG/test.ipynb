{
 "cells": [
  {
   "cell_type": "code",
   "execution_count": 50,
   "metadata": {},
   "outputs": [],
   "source": [
    "from gde import gde"
   ]
  },
  {
   "cell_type": "code",
   "execution_count": 65,
   "metadata": {},
   "outputs": [],
   "source": [
    "opt = gde.CPEngineOptions(\"gde\")"
   ]
  },
  {
   "cell_type": "code",
   "execution_count": 66,
   "metadata": {},
   "outputs": [],
   "source": [
    "opt.set_solutions(0)"
   ]
  },
  {
   "cell_type": "code",
   "execution_count": 67,
   "metadata": {},
   "outputs": [
    {
     "data": {
      "text/plain": [
       "True"
      ]
     },
     "execution_count": 67,
     "metadata": {},
     "output_type": "execute_result"
    }
   ],
   "source": [
    "gde.parse_files(opt, \"../XP/temp+\", \"../XP/temp-\")"
   ]
  },
  {
   "cell_type": "code",
   "execution_count": 68,
   "metadata": {},
   "outputs": [],
   "source": [
    "opt.minimal_support_ = 12\n",
    "opt.closed_ = True\n",
    "opt.output_tid_lists_ = True"
   ]
  },
  {
   "cell_type": "code",
   "execution_count": 69,
   "metadata": {},
   "outputs": [],
   "source": [
    "opt.set_export_episodes()"
   ]
  },
  {
   "cell_type": "code",
   "execution_count": 70,
   "metadata": {},
   "outputs": [
    {
     "data": {
      "text/plain": [
       "1"
      ]
     },
     "execution_count": 70,
     "metadata": {},
     "output_type": "execute_result"
    }
   ],
   "source": [
    "gde.run(opt)"
   ]
  },
  {
   "cell_type": "code",
   "execution_count": 71,
   "metadata": {},
   "outputs": [],
   "source": [
    "episodes = opt.get_episodes()"
   ]
  },
  {
   "cell_type": "code",
   "execution_count": 72,
   "metadata": {},
   "outputs": [
    {
     "name": "stdout",
     "output_type": "stream",
     "text": [
      "{ATTACHED-BLUE-HANDd:1, ATTACHED-BLUE-GREENd:2, ATTACHED-BLUE-GREENe:2, CONTACTS-BLUE-GREENd:2, ATTACHED-BLUE-HANDe:1, ATTACHED-HAND-REDd:1, CONTACTS-BLUE-GREENe:2, ATTACHED-HAND-REDe:1, CONTACTS-BLUE-REDd:1, CONTACTS-BLUE-REDe:1}\n",
      "ATTACHED-BLUE-HANDd:0 |-> CONTACTS-BLUE-GREENe:1\n",
      "ATTACHED-BLUE-HANDd:0 |-> CONTACTS-BLUE-REDe:0\n",
      "ATTACHED-BLUE-GREENd:0 |-> ATTACHED-BLUE-GREENd:1\n",
      "ATTACHED-BLUE-GREENd:0 -> ATTACHED-BLUE-GREENe:1\n",
      "ATTACHED-BLUE-GREENd:0 |-> CONTACTS-BLUE-GREENd:1\n",
      "ATTACHED-BLUE-GREENd:0 |-> CONTACTS-BLUE-GREENe:1\n",
      "ATTACHED-BLUE-GREENd:0 |-> ATTACHED-HAND-REDe:0\n",
      "ATTACHED-BLUE-GREENd:0 |-> CONTACTS-BLUE-REDd:0\n",
      "ATTACHED-BLUE-GREENd:0 |-> CONTACTS-BLUE-REDe:0\n",
      "ATTACHED-BLUE-GREENd:1 -> CONTACTS-BLUE-REDe:0\n",
      "ATTACHED-BLUE-GREENe:0 |-> ATTACHED-BLUE-GREENe:1\n",
      "ATTACHED-BLUE-GREENe:0 |-> CONTACTS-BLUE-GREENd:1\n",
      "ATTACHED-BLUE-GREENe:0 |-> CONTACTS-BLUE-GREENe:1\n",
      "ATTACHED-BLUE-GREENe:0 |-> ATTACHED-HAND-REDe:0\n",
      "ATTACHED-BLUE-GREENe:0 |-> CONTACTS-BLUE-REDd:0\n",
      "ATTACHED-BLUE-GREENe:0 |-> CONTACTS-BLUE-REDe:0\n",
      "CONTACTS-BLUE-GREENd:0 |-> CONTACTS-BLUE-GREENd:1\n",
      "CONTACTS-BLUE-GREENd:0 -> CONTACTS-BLUE-GREENe:1\n",
      "CONTACTS-BLUE-GREENd:0 |-> ATTACHED-HAND-REDe:0\n",
      "CONTACTS-BLUE-GREENd:0 |-> CONTACTS-BLUE-REDd:0\n",
      "CONTACTS-BLUE-GREENd:0 |-> CONTACTS-BLUE-REDe:0\n",
      "ATTACHED-BLUE-HANDe:0 |-> CONTACTS-BLUE-GREENe:1\n",
      "ATTACHED-BLUE-HANDe:0 -> CONTACTS-BLUE-REDe:0\n",
      "ATTACHED-HAND-REDd:0 |-> CONTACTS-BLUE-GREENe:1\n",
      "CONTACTS-BLUE-GREENe:0 |-> CONTACTS-BLUE-GREENe:1\n",
      "CONTACTS-BLUE-GREENe:0 |-> CONTACTS-BLUE-REDd:0\n",
      "CONTACTS-BLUE-GREENe:0 |-> CONTACTS-BLUE-REDe:0\n",
      "Support: 24/0\n"
     ]
    }
   ],
   "source": [
    "print(episodes[0])"
   ]
  },
  {
   "cell_type": "code",
   "execution_count": 73,
   "metadata": {},
   "outputs": [],
   "source": [
    "tids = episodes[0].get_tid_list()"
   ]
  },
  {
   "cell_type": "code",
   "execution_count": 74,
   "metadata": {},
   "outputs": [],
   "source": [
    "negatives = tids[0]"
   ]
  },
  {
   "cell_type": "code",
   "execution_count": 75,
   "metadata": {},
   "outputs": [],
   "source": [
    "positives = tids[1]"
   ]
  },
  {
   "cell_type": "code",
   "execution_count": 76,
   "metadata": {},
   "outputs": [],
   "source": [
    "for i in negatives:\n",
    "    print(i)"
   ]
  },
  {
   "cell_type": "code",
   "execution_count": 77,
   "metadata": {},
   "outputs": [
    {
     "name": "stdout",
     "output_type": "stream",
     "text": [
      "0\n",
      "1\n",
      "2\n",
      "3\n",
      "4\n",
      "5\n",
      "6\n",
      "7\n",
      "8\n",
      "9\n",
      "10\n",
      "11\n",
      "12\n",
      "13\n",
      "14\n",
      "15\n",
      "16\n",
      "17\n",
      "18\n",
      "19\n",
      "20\n",
      "21\n",
      "22\n",
      "23\n"
     ]
    }
   ],
   "source": [
    "for i in positives:\n",
    "    print(i)"
   ]
  },
  {
   "cell_type": "code",
   "execution_count": 15,
   "metadata": {},
   "outputs": [],
   "source": [
    "e = episodes[0]"
   ]
  },
  {
   "cell_type": "code",
   "execution_count": 16,
   "metadata": {},
   "outputs": [],
   "source": [
    "m = gde.RelationshipMap(e)"
   ]
  },
  {
   "cell_type": "code",
   "execution_count": 17,
   "metadata": {},
   "outputs": [],
   "source": [
    "ev = e.get_multiset().get_item_vector()"
   ]
  },
  {
   "cell_type": "code",
   "execution_count": 18,
   "metadata": {},
   "outputs": [
    {
     "name": "stdout",
     "output_type": "stream",
     "text": [
      "0, 1: <-|\n"
     ]
    }
   ],
   "source": [
    "for i in range(len(ev)):\n",
    "    for j in range(i+1, len(ev)):\n",
    "        print(str(i) + \", \" + str(j) + \": \" + m[(gde.Item(ev[i][0], ev[i][1]), gde.Item(ev[j][0], ev[j][1]))])"
   ]
  },
  {
   "cell_type": "code",
   "execution_count": 19,
   "metadata": {},
   "outputs": [
    {
     "data": {
      "text/plain": [
       "[0, 1, 1]"
      ]
     },
     "execution_count": 19,
     "metadata": {},
     "output_type": "execute_result"
    }
   ],
   "source": [
    "list(e.get_multiset().get_multiset())"
   ]
  },
  {
   "cell_type": "code",
   "execution_count": 20,
   "metadata": {},
   "outputs": [
    {
     "name": "stdout",
     "output_type": "stream",
     "text": [
      "((1, 0), (2, 0))\n"
     ]
    }
   ],
   "source": [
    "print(ev)"
   ]
  },
  {
   "cell_type": "code",
   "execution_count": 22,
   "metadata": {},
   "outputs": [],
   "source": [
    "mu = e.get_multiset().get_multiset_str_list()"
   ]
  },
  {
   "cell_type": "code",
   "execution_count": 24,
   "metadata": {},
   "outputs": [
    {
     "data": {
      "text/plain": [
       "'B'"
      ]
     },
     "execution_count": 24,
     "metadata": {},
     "output_type": "execute_result"
    }
   ],
   "source": [
    "mu[0][0]"
   ]
  },
  {
   "cell_type": "code",
   "execution_count": null,
   "metadata": {},
   "outputs": [],
   "source": []
  }
 ],
 "metadata": {
  "kernelspec": {
   "display_name": "Python 3",
   "language": "python",
   "name": "python3"
  },
  "language_info": {
   "codemirror_mode": {
    "name": "ipython",
    "version": 3
   },
   "file_extension": ".py",
   "mimetype": "text/x-python",
   "name": "python",
   "nbconvert_exporter": "python",
   "pygments_lexer": "ipython3",
   "version": "3.7.0"
  }
 },
 "nbformat": 4,
 "nbformat_minor": 2
}
